{
  "nbformat": 4,
  "nbformat_minor": 0,
  "metadata": {
    "colab": {
      "provenance": [],
      "authorship_tag": "ABX9TyP/xEfntLG/HhuwSVngXF6X",
      "include_colab_link": true
    },
    "kernelspec": {
      "name": "python3",
      "display_name": "Python 3"
    },
    "language_info": {
      "name": "python"
    }
  },
  "cells": [
    {
      "cell_type": "markdown",
      "metadata": {
        "id": "view-in-github",
        "colab_type": "text"
      },
      "source": [
        "<a href=\"https://colab.research.google.com/github/AlinaNaida04/colab/blob/main/Task3_coin_flips.ipynb\" target=\"_parent\"><img src=\"https://colab.research.google.com/assets/colab-badge.svg\" alt=\"Open In Colab\"/></a>"
      ]
    },
    {
      "cell_type": "code",
      "source": [
        "import numpy as np\n",
        "\n",
        "# Given probabilities for each coin\n",
        "coin_probs = np.array([0.8, 0.9, 0.1, 0.2, 0.3])\n",
        "num_coins = len(coin_probs)\n",
        "\n",
        "# Initial equal probabilities for selecting each coin\n",
        "prior_probs = np.full(num_coins, 1 / num_coins)\n",
        "\n",
        "# Sequence of flips\n",
        "flips = ['H', 'T', 'H', 'H', 'H', 'T', 'T', 'H', 'H']\n",
        "\n",
        "# Store probabilities of 'H' for each flip\n",
        "H_probabilities = []\n",
        "\n",
        "# Iterate over each observed flip\n",
        "for flip in flips:\n",
        "    # Compute the probability of the observed flip given each coin\n",
        "    likelihoods = coin_probs if flip == 'H' else (1 - coin_probs)\n",
        "\n",
        "    # Apply Bayes' Theorem to update beliefs about which coin was chosen\n",
        "    posterior_probs = likelihoods * prior_probs\n",
        "    posterior_probs /= posterior_probs.sum()  # Normalize\n",
        "\n",
        "    # Compute the probability of getting 'H' in the next flip\n",
        "    P_H_next = np.sum(posterior_probs * coin_probs)\n",
        "\n",
        "    # Store rounded result\n",
        "    H_probabilities.append(round(P_H_next, 2))\n",
        "\n",
        "    # Update prior for next iteration\n",
        "    prior_probs = posterior_probs\n",
        "\n",
        "# Output the probability list\n",
        "print(H_probabilities)"
      ],
      "metadata": {
        "colab": {
          "base_uri": "https://localhost:8080/"
        },
        "id": "fqavU2ZyDNPk",
        "outputId": "45069dbb-0cfe-4b81-e229-6f14affdd63f"
      },
      "execution_count": null,
      "outputs": [
        {
          "output_type": "stream",
          "name": "stdout",
          "text": [
            "[0.69, 0.44, 0.64, 0.77, 0.82, 0.73, 0.55, 0.69, 0.77]\n"
          ]
        }
      ]
    }
  ]
}